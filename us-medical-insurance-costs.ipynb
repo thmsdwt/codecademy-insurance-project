{
 "cells": [
  {
   "cell_type": "markdown",
   "metadata": {},
   "source": [
    "# U.S. Medical Insurance Costs\n",
    "### Codecademy Portfolio Project\n",
    "\n",
    "__Research questions__:\n",
    "- Average age of smokers?\n",
    "- Average age of people with one child?\n",
    "- Average cost of smokers\n",
    "- Which region has the most smokers?\n",
    "- Which region has the highest average bmi?\n"
   ]
  },
  {
   "cell_type": "markdown",
   "metadata": {},
   "source": [
    "## Version #1\n",
    "First try with functions. It is simple and does the job but is not flexibel."
   ]
  },
  {
   "cell_type": "code",
   "execution_count": 17,
   "metadata": {},
   "outputs": [],
   "source": [
    "import csv\n",
    "\n",
    "with open('insurance.csv', newline='') as insurance_csv:\n",
    "    insurance_data = csv.DictReader(insurance_csv)\n",
    "\n",
    "    list_age_onechild = []\n",
    "    for row in insurance_data:\n",
    "        if int(row['children']) == 1:  # Condition: children equals 1\n",
    "            list_age_onechild.append(int(row['age']))  # Add age to list_age_onechild\n",
    "\n",
    "with open('insurance.csv', newline='') as insurance_csv:\n",
    "    insurance_data = csv.DictReader(insurance_csv)\n",
    "\n",
    "    list_smoke_age = []\n",
    "    for row in insurance_data:\n",
    "        if row['smoker'] == 'yes':  # Condition: smoker equals 'yes'\n",
    "            list_smoke_age.append(int(row['age']))  # Add age to list_smoke_age\n",
    "\n",
    "with open('insurance.csv', newline='') as insurance_csv:\n",
    "    insurance_data = csv.DictReader(insurance_csv)\n",
    "\n",
    "    list_costs = []\n",
    "    for row in insurance_data:\n",
    "        if row['smoker'] == 'yes':  # Condition: smoker equals 1\n",
    "            list_costs.append(float(row['charges']))  # Add age to list_smoke_age"
   ]
  },
  {
   "cell_type": "code",
   "execution_count": 18,
   "metadata": {},
   "outputs": [
    {
     "name": "stdout",
     "output_type": "stream",
     "text": [
      "The average age of people with 1 child is: 39.5\n"
     ]
    }
   ],
   "source": [
    "sum_age_child = sum(list_age_onechild)\n",
    "len_age_child = len(list_age_onechild)\n",
    "av_age_list_child = sum_age_child / len_age_child\n",
    "\n",
    "print(f'The average age of people with 1 child is: {round(av_age_list_child, 1)}')"
   ]
  },
  {
   "cell_type": "code",
   "execution_count": 15,
   "metadata": {},
   "outputs": [
    {
     "name": "stdout",
     "output_type": "stream",
     "text": [
      "The average age of smokers is: 38.5\n"
     ]
    }
   ],
   "source": [
    "sum_age_smoker = sum(list_smoke_age)\n",
    "len_age_smoker = len(list_smoke_age)\n",
    "av_age_list_smoker =  sum_age_smoker / len_age_smoker\n",
    "\n",
    "print(f'The average age of smokers is: {round(av_age_list_smoker, 1)}')"
   ]
  },
  {
   "cell_type": "code",
   "execution_count": 20,
   "metadata": {},
   "outputs": [
    {
     "name": "stdout",
     "output_type": "stream",
     "text": [
      "The minimum cost for smokers is $12829.5, the maximum cost is $63770.4. On average somkers pay $32050.2.\n"
     ]
    }
   ],
   "source": [
    "max_costs = max(list_costs)\n",
    "min_costs = min(list_costs)\n",
    "sum_costs = sum(list_costs)\n",
    "len_costs = len(list_costs)\n",
    "av_costs = sum_costs / len_costs\n",
    "\n",
    "print(f'The minimum cost for smokers is ${round(min_costs, 1)}, the maximum cost is ${round(max_costs, 1)}. On average somkers pay ${round(av_costs, 1)}.')"
   ]
  },
  {
   "cell_type": "markdown",
   "metadata": {},
   "source": [
    "## Version #2\n",
    "Second version uses a class. It is better but still not very flexibel."
   ]
  },
  {
   "cell_type": "code",
   "execution_count": 23,
   "metadata": {},
   "outputs": [],
   "source": [
    "import csv\n",
    "\n",
    "class InsuranceData:\n",
    "    def __init__(self, insurance_data_file):\n",
    "        self.insurance_data_file = insurance_data_file\n",
    "\n",
    "    def get_ages_with_one_child(self):\n",
    "        list_age_onechild = []\n",
    "        with open(self.insurance_data_file, newline='') as insurance_csv:\n",
    "            insurance_data = csv.DictReader(insurance_csv)\n",
    "            for row in insurance_data:\n",
    "                if int(row['children']) == 1:\n",
    "                    list_age_onechild.append(int(row['age']))\n",
    "        return list_age_onechild\n",
    "\n",
    "    def get_ages_of_smokers(self):\n",
    "        list_smoke_age = []\n",
    "        with open(self.insurance_data_file, newline='') as insurance_csv:\n",
    "            insurance_data = csv.DictReader(insurance_csv)\n",
    "            for row in insurance_data:\n",
    "                if row['smoker'] == 'yes':\n",
    "                    list_smoke_age.append(int(row['age']))\n",
    "        return list_smoke_age\n",
    "\n",
    "    def get_charges_of_smokers(self):\n",
    "        list_costs = []\n",
    "        with open(self.insurance_data_file, newline='') as insurance_csv:\n",
    "            insurance_data = csv.DictReader(insurance_csv)\n",
    "            for row in insurance_data:\n",
    "                if row['smoker'] == 'yes':\n",
    "                    list_costs.append(float(row['charges']))\n",
    "        return list_costs\n",
    "    \n",
    "    def calculate_average_age_one_child(self):\n",
    "        list_age_onechild = self.get_ages_with_one_child()\n",
    "        if list_age_onechild:\n",
    "            sum_age_child = sum(list_age_onechild)\n",
    "            len_age_child = len(list_age_onechild)\n",
    "            av_age_list_child = sum_age_child / len_age_child\n",
    "            print(f'The average age of people with 1 child is: {round(av_age_list_child, 1)}')\n",
    "        else:\n",
    "            print(\"No data available for people with 1 child.\")\n",
    "    \n",
    "    def calculate_average_age_smoker(self):\n",
    "        list_smoke_age = self.get_ages_of_smokers()\n",
    "        if list_smoke_age:\n",
    "            sum_age_smoker = sum(list_smoke_age)\n",
    "            len_age_smoker = len(list_smoke_age)\n",
    "            av_age_list_smoker =  sum_age_smoker / len_age_smoker\n",
    "            print(f'The average age of smokers is: {round(av_age_list_smoker, 1)}')\n",
    "        else:\n",
    "            print(\"No data available for smokers.\")\n",
    "    \n",
    "    def calculate_smokers_costs(self):\n",
    "        list_costs = self.get_charges_of_smokers()\n",
    "        if list_costs:\n",
    "            max_costs = max(list_costs)\n",
    "            min_costs = min(list_costs)\n",
    "            sum_costs = sum(list_costs)\n",
    "            len_costs = len(list_costs)\n",
    "            av_costs = sum_costs / len_costs\n",
    "            print(f'The minimum cost for smokers is ${round(min_costs, 1)}, the maximum cost is ${round(max_costs, 1)}. On average smokers pay ${round(av_costs, 1)}.')\n",
    "        else:\n",
    "            print(\"No data available for smokers costs.\")"
   ]
  },
  {
   "cell_type": "markdown",
   "metadata": {},
   "source": [
    "## Version #3 \n",
    "Third version uses inheritance. This makes the code more flexibel to use and easier to read."
   ]
  },
  {
   "cell_type": "code",
   "execution_count": 116,
   "metadata": {},
   "outputs": [],
   "source": [
    "import csv\n",
    "import pandas as pd\n",
    "import numpy as np\n",
    "from scipy.stats import pearsonr\n",
    "\n",
    "data = pd.read_csv('insurance.csv')\n",
    "\n",
    "class InsuranceData:\n",
    "    def __init__(self, insurance_data_file):\n",
    "        self.insurance_data_file = insurance_data_file\n",
    "\n",
    "    def get_ages_with_one_child(self):\n",
    "        list_age_onechild = []\n",
    "        with open(self.insurance_data_file, newline='') as insurance_csv:\n",
    "            insurance_data = csv.DictReader(insurance_csv)\n",
    "            for row in insurance_data:\n",
    "                if int(row['children']) == 1:\n",
    "                    list_age_onechild.append(int(row['age']))\n",
    "        return list_age_onechild\n",
    "\n",
    "    def get_ages_of_smokers(self):\n",
    "        list_smoke_age = []\n",
    "        with open(self.insurance_data_file, newline='') as insurance_csv:\n",
    "            insurance_data = csv.DictReader(insurance_csv)\n",
    "            for row in insurance_data:\n",
    "                if row['smoker'] == 'yes':\n",
    "                    list_smoke_age.append(int(row['age']))\n",
    "        return list_smoke_age\n",
    "\n",
    "    def get_charges_of_smokers(self):\n",
    "        list_costs = []\n",
    "        with open(self.insurance_data_file, newline='') as insurance_csv:\n",
    "            insurance_data = csv.DictReader(insurance_csv)\n",
    "            for row in insurance_data:\n",
    "                if row['smoker'] == 'yes':\n",
    "                    list_costs.append(float(row['charges']))\n",
    "        return list_costs\n",
    "    \n",
    "    def get_region_of_smokers(self):\n",
    "        list_region = []\n",
    "        with open(self.insurance_data_file, newline='') as insurance_csv:\n",
    "            insurance_data = csv.DictReader(insurance_csv)\n",
    "            for row in insurance_data:\n",
    "                if row['smoker'] == 'yes':\n",
    "                    list_region.append(row['region'])\n",
    "        return list_region\n",
    "    \n",
    "    def get_region_bmi(self):\n",
    "        list_region_bmi = []\n",
    "        region = 'region'\n",
    "        bmi = 'bmi'\n",
    "        with open(self.insurance_data_file, newline='') as insurance_csv:\n",
    "            insurance_data = csv.DictReader(insurance_csv)\n",
    "            for row in insurance_data:\n",
    "                list_region_bmi.append({region: row[region], bmi: row[bmi]})\n",
    "        return list_region_bmi\n",
    "    \n",
    "\n",
    "class InsuranceDataCalculations(InsuranceData):\n",
    "    def calculate_average_age_one_child(self):\n",
    "        list_age_onechild = self.get_ages_with_one_child()\n",
    "        if list_age_onechild:\n",
    "            sum_age_child = sum(list_age_onechild)\n",
    "            len_age_child = len(list_age_onechild)\n",
    "            av_age_list_child = sum_age_child / len_age_child\n",
    "            print(f'The average age of people with 1 child is: {round(av_age_list_child, 1)}')\n",
    "        else:\n",
    "            print('No data available for people with 1 child.')\n",
    "    \n",
    "    def calculate_average_age_smoker(self):\n",
    "        list_smoke_age = self.get_ages_of_smokers()\n",
    "        if list_smoke_age:\n",
    "            sum_age_smoker = sum(list_smoke_age)\n",
    "            len_age_smoker = len(list_smoke_age)\n",
    "            av_age_list_smoker =  sum_age_smoker / len_age_smoker\n",
    "            print(f'The average age of smokers is: {round(av_age_list_smoker, 1)}')\n",
    "        else:\n",
    "            print('No data available for smokers.')\n",
    "    \n",
    "    def calculate_smokers_costs(self):\n",
    "        list_costs = self.get_charges_of_smokers()\n",
    "        if list_costs:\n",
    "            av_costs = sum(list_costs) / len(list_costs)\n",
    "            print(f'The minimum cost for smokers is ${round(min(list_costs), 1)}, the maximum cost is ${round(max(list_costs), 1)}. On average smokers pay ${round(av_costs, 1)}.')\n",
    "        else:\n",
    "            print('No data available for smokers costs.')\n",
    "    \n",
    "    def calculate_agegroup_smoker(self):\n",
    "        list_smoke_age = self.get_ages_of_smokers()\n",
    "        if list_smoke_age:\n",
    "            young = [age for age in list_smoke_age if age < 25]\n",
    "            middle_age = [age for age in list_smoke_age if 25 <= age <= 50]\n",
    "            old = [age for age in list_smoke_age if age < 50]\n",
    "            print(f'There are {len(young)} smokers that are younger the 25, {len(middle_age)} smokers that are between the age of 25 and 50 and {len(old)} smokers older then 50.')        \n",
    "        else:\n",
    "            print('No data available for smokers age.')\n",
    "    \n",
    "    def calculate_region_smoker(self):\n",
    "        list_region = self.get_region_of_smokers()\n",
    "        \n",
    "        distinct_regions = set(list_region)\n",
    "                \n",
    "        if list_region:\n",
    "            northeast = [region for region in list_region if region == 'northeast']\n",
    "            northwest = [region for region in list_region if region == 'northwest']\n",
    "            southeast = [region for region in list_region if region == 'southeast']\n",
    "            southwest = [region for region in list_region if region == 'southwest']\n",
    "\n",
    "            print(f'There are 4 distinct regions: {distinct_regions}. The Northeast region has {len(northeast)} smokers. The Northwest region has {len(northwest)} smokers. The Southeast region has {len(southeast)} smokers. And the Southwest region has {len(southwest)} smokers.')\n",
    "        else:\n",
    "            print('No data available for smoker regions.')\n",
    "    \n",
    "    def calculate_region_bmi(self):\n",
    "        list_region_bmi = self.get_region_bmi()\n",
    "        \n",
    "        if list_region_bmi:\n",
    "            northeast_bmi = [float(row['bmi']) for row in list_region_bmi if row['region'] == 'northeast']\n",
    "            northwest_bmi = [float(row['bmi']) for row in list_region_bmi if row['region'] == 'northwest']\n",
    "            southeast_bmi = [float(row['bmi']) for row in list_region_bmi if row['region'] == 'southeast']\n",
    "            southwest_bmi = [float(row['bmi']) for row in list_region_bmi if row['region'] == 'southwest']\n",
    "\n",
    "            northeast_average = sum(northeast_bmi) / len(northeast_bmi)\n",
    "            northwest_average = sum(northwest_bmi) / len(northwest_bmi)\n",
    "            southeast_average = sum(southeast_bmi) / len(southeast_bmi)\n",
    "            southwest_average = sum(southwest_bmi) / len(southwest_bmi)\n",
    "\n",
    "            print(f'The average BMI of the Northeast region is {round(northeast_average, 1)}. The Northwest average is {round(northwest_average, 1)}. The Southeast region has an average of {round(southeast_average, 1)}. And the Southwest region {round(southwest_average, 1)}.')\n",
    "            \n",
    "        else:\n",
    "            print('No data available for smoker regions.')\n"
   ]
  },
  {
   "cell_type": "code",
   "execution_count": 117,
   "metadata": {},
   "outputs": [
    {
     "name": "stdout",
     "output_type": "stream",
     "text": [
      "The average age of people with 1 child is: 39.5\n",
      "The average age of smokers is: 38.5\n",
      "The minimum cost for smokers is $12829.5, the maximum cost is $63770.4. On average smokers pay $32050.2.\n",
      "There are 60 smokers that are younger the 25, 150 smokers that are between the age of 25 and 50 and 206 smokers older then 50.\n",
      "There are 4 distinct regions: {'northeast', 'southwest', 'northwest', 'southeast'}. The Northeast region has 67 smokers. The Northwest region has 58 smokers. The Southeast region has 91 smokers. And the Southwest region has 58 smokers.\n",
      "The average BMI of the Northeast region is 29.2. The Northwest average is 29.2. The Southeast region has an average of 33.4. And the Southwest region 30.6.\n"
     ]
    }
   ],
   "source": [
    "insurance_data_calc = InsuranceDataCalculations('insurance.csv')\n",
    "insurance_data = InsuranceData('insurance.csv')\n",
    "\n",
    "insurance_data_calc.calculate_average_age_one_child()\n",
    "insurance_data_calc.calculate_average_age_smoker()\n",
    "insurance_data_calc.calculate_smokers_costs()\n",
    "insurance_data_calc.calculate_agegroup_smoker()\n",
    "insurance_data_calc.calculate_region_smoker()\n",
    "insurance_data_calc.calculate_region_bmi()\n",
    "\n",
    "\n"
   ]
  }
 ],
 "metadata": {
  "kernelspec": {
   "display_name": "Python 3",
   "language": "python",
   "name": "python3"
  },
  "language_info": {
   "codemirror_mode": {
    "name": "ipython",
    "version": 3
   },
   "file_extension": ".py",
   "mimetype": "text/x-python",
   "name": "python",
   "nbconvert_exporter": "python",
   "pygments_lexer": "ipython3",
   "version": "3.11.5"
  }
 },
 "nbformat": 4,
 "nbformat_minor": 4
}
